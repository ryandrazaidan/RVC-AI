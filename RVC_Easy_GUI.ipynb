{
  "nbformat": 4,
  "nbformat_minor": 0,
  "metadata": {
    "colab": {
      "provenance": [],
      "collapsed_sections": [
        "8PbPyEJ0p3T-"
      ],
      "authorship_tag": "ABX9TyMox8H9f+yLcPym//CSsS80",
      "include_colab_link": true
    },
    "kernelspec": {
      "name": "python3",
      "display_name": "Python 3"
    },
    "language_info": {
      "name": "python"
    }
  },
  "cells": [
    {
      "cell_type": "markdown",
      "metadata": {
        "id": "view-in-github",
        "colab_type": "text"
      },
      "source": [
        "<a href=\"https://colab.research.google.com/github/ryandrazaidan/RVC-AI/blob/main/RVC_Easy_GUI.ipynb\" target=\"_parent\"><img src=\"https://colab.research.google.com/assets/colab-badge.svg\" alt=\"Open In Colab\"/></a>"
      ]
    },
    {
      "cell_type": "markdown",
      "source": [
        "##Step 1. Install  (3-5 Menit)\n"
      ],
      "metadata": {
        "id": "8PbPyEJ0p3T-"
      }
    },
    {
      "cell_type": "code",
      "execution_count": null,
      "metadata": {
        "id": "kfZnOZqspAwd"
      },
      "outputs": [],
      "source": [
        "#@title Install Dependencies\n",
        "!apt-get -y install build-essential python3-dev ffmpeg\n",
        "!pip3 install --upgrade setuptools wheel\n",
        "!pip3 install --upgrade pip\n",
        "!pip3 install faiss-gpu fairseq gradio ffmpeg ffmpeg-python praat-parselmouth pyworld numpy==1.23.5 numba==0.56.4 librosa==0.9.2\n",
        "!apt -y install -qq aria2\n",
        "!pip install mega.py --quiet\n",
        "!pip install gdown --quiet\n",
        "!pip install pyngrok==4.1.12 --quiet\n",
        "import ipywidgets as widgets\n",
        "from IPython.display import clear_output\n",
        "import os, shutil\n",
        "success=widgets.Button(description=\"\\u2714 Done\",disabled=True, button_style=\"success\")"
      ]
    },
    {
      "cell_type": "code",
      "source": [
        "#@title Clone Github Repository\n",
        "#%cd /content/\n",
        "#!git clone https://github.com/fumiama/Retrieval-based-Voice-Conversion-WebUI\n",
        "#%cd /content/Retrieval-based-Voice-Conversion-WebUI\n",
        "#!mkdir -p pretrained uvr5_weights\n",
        "#!git pull\n",
        "\n",
        "%cd /content/\n",
        "!wget https://github.com/kalomaze/Retrieval-based-Voice-Conversion-WebUI/releases/download/20230428updated/updated20230428.zip\n",
        "!mkdir /content/Retrieval-based-Voice-Conversion-WebUI\n",
        "!unzip -d /content/Retrieval-based-Voice-Conversion-WebUI -b updated20230428.zip\n",
        "!rm updated20230428.zip\n",
        "%cd /content/Retrieval-based-Voice-Conversion-WebUI\n",
        "!wget https://raw.githubusercontent.com/777gt/EVC/main/easy-infer.py\n",
        "!mkdir -p pretrained uvr5_weights"
      ],
      "metadata": {
        "id": "_q-SnbnhpmxG"
      },
      "execution_count": null,
      "outputs": []
    },
    {
      "cell_type": "code",
      "source": [
        "#@title Download the Base Model\n",
        "#!aria2c --console-log-level=error -c -x 16 -s 16 -k 1M https://huggingface.co/lj1995/VoiceConversionWebUI/resolve/main/pretrained/D32k.pth -d /content/Retrieval-based-Voice-Conversion-WebUI/pretrained -o D32k.pth\n",
        "#!aria2c --console-log-level=error -c -x 16 -s 16 -k 1M https://huggingface.co/lj1995/VoiceConversionWebUI/resolve/main/pretrained/D40k.pth -d /content/Retrieval-based-Voice-Conversion-WebUI/pretrained -o D40k.pth\n",
        "#!aria2c --console-log-level=error -c -x 16 -s 16 -k 1M https://huggingface.co/lj1995/VoiceConversionWebUI/resolve/main/pretrained/D48k.pth -d /content/Retrieval-based-Voice-Conversion-WebUI/pretrained -o D48k.pth\n",
        "#!aria2c --console-log-level=error -c -x 16 -s 16 -k 1M https://huggingface.co/lj1995/VoiceConversionWebUI/resolve/main/pretrained/G32k.pth -d /content/Retrieval-based-Voice-Conversion-WebUI/pretrained -o G32k.pth\n",
        "#!aria2c --console-log-level=error -c -x 16 -s 16 -k 1M https://huggingface.co/lj1995/VoiceConversionWebUI/resolve/main/pretrained/G40k.pth -d /content/Retrieval-based-Voice-Conversion-WebUI/pretrained -o G40k.pth\n",
        "#!aria2c --console-log-level=error -c -x 16 -s 16 -k 1M https://huggingface.co/lj1995/VoiceConversionWebUI/resolve/main/pretrained/G48k.pth -d /content/Retrieval-based-Voice-Conversion-WebUI/pretrained -o G48k.pth\n",
        "#!aria2c --console-log-level=error -c -x 16 -s 16 -k 1M https://huggingface.co/lj1995/VoiceConversionWebUI/resolve/main/pretrained/f0D32k.pth -d /content/Retrieval-based-Voice-Conversion-WebUI/pretrained -o f0D32k.pth\n",
        "#!aria2c --console-log-level=error -c -x 16 -s 16 -k 1M https://huggingface.co/lj1995/VoiceConversionWebUI/resolve/main/pretrained/f0D40k.pth -d /content/Retrieval-based-Voice-Conversion-WebUI/pretrained -o f0D40k.pth\n",
        "#!aria2c --console-log-level=error -c -x 16 -s 16 -k 1M https://huggingface.co/lj1995/VoiceConversionWebUI/resolve/main/pretrained/f0D48k.pth -d /content/Retrieval-based-Voice-Conversion-WebUI/pretrained -o f0D48k.pth\n",
        "#!aria2c --console-log-level=error -c -x 16 -s 16 -k 1M https://huggingface.co/lj1995/VoiceConversionWebUI/resolve/main/pretrained/f0G32k.pth -d /content/Retrieval-based-Voice-Conversion-WebUI/pretrained -o f0G32k.pth\n",
        "#!aria2c --console-log-level=error -c -x 16 -s 16 -k 1M https://huggingface.co/lj1995/VoiceConversionWebUI/resolve/main/pretrained/f0G40k.pth -d /content/Retrieval-based-Voice-Conversion-WebUI/pretrained -o f0G40k.pth\n",
        "#!aria2c --console-log-level=error -c -x 16 -s 16 -k 1M https://huggingface.co/lj1995/VoiceConversionWebUI/resolve/main/pretrained/f0G48k.pth -d /content/Retrieval-based-Voice-Conversion-WebUI/pretrained -o f0G48k.pth\n",
        "\n",
        "#!aria2c --console-log-level=error -c -x 16 -s 16 -k 1M https://huggingface.co/lj1995/VoiceConversionWebUI/resolve/main/uvr5_weights/HP2-人声vocals+非人声instrumentals.pth -d /content/Retrieval-based-Voice-Conversion-WebUI/uvr5_weights -o HP2-人声vocals+非人声instrumentals.pth\n",
        "#!aria2c --console-log-level=error -c -x 16 -s 16 -k 1M https://huggingface.co/lj1995/VoiceConversionWebUI/resolve/main/uvr5_weights/HP5-主旋律人声vocals+其他instrumentals.pth -d /content/Retrieval-based-Voice-Conversion-WebUI/uvr5_weights -o HP5-主旋律人声vocals+其他instrumentals.pth\n",
        "\n",
        "!aria2c --console-log-level=error -c -x 16 -s 16 -k 1M https://huggingface.co/lj1995/VoiceConversionWebUI/resolve/main/hubert_base.pt -d /content/Retrieval-based-Voice-Conversion-WebUI -o hubert_base.pt"
      ],
      "metadata": {
        "id": "_Y29VKAlpoL1"
      },
      "execution_count": null,
      "outputs": []
    },
    {
      "cell_type": "code",
      "source": [
        "#@markdown This will also create an RVC and dataset folders in your drive if they don't already exist.\n",
        "#from google.colab import drive\n",
        "#drive.mount('/content/drive', force_remount=True)"
      ],
      "metadata": {
        "id": "Fdm-1j3Ip1uL"
      },
      "execution_count": null,
      "outputs": []
    },
    {
      "cell_type": "markdown",
      "source": [
        "##Rejekts' Models List:\n",
        "###Kamu bisa download dari link mana saja selama itu RVC. (Mega, Drive, dll.)\n",
        "\n",
        "\n",
        "jungkook: https://drive.google.com/file/d/1i5CMlcnKfVEpzD5wvwjWytrwT2fT74g6/view?usp=share_link\n",
        "\n",
        "BENEE: https://drive.google.com/file/d/1nuUVTqg1_lja7JFctjd18W9hQ7rk7aDZ/view?usp=share_link\n",
        "\n",
        "shiloh: https://drive.google.com/file/d/12nk3OOEVdhWB6eBNYN5Gw0wbifIYx_fF/view?usp=share_link\n",
        "\n",
        "CHASEATLANTIC: https://drive.google.com/file/d/1-Ayoue7g4eOPiyc6wgCCWmIrkfldThJb/view?usp=share_link"
      ],
      "metadata": {
        "id": "z8W7kcPJq-Gq"
      }
    },
    {
      "cell_type": "code",
      "source": [
        "#@markdown #Step 2. Download Model\n",
        "from mega import Mega\n",
        "import os\n",
        "MODEL = \"jungkook\"  #@param {type:\"string\"}\n",
        "MODELEPOCH = ''\n",
        "url='https://drive.google.com/file/d/1i5CMlcnKfVEpzD5wvwjWytrwT2fT74g6/view?usp=share_link'#@param {type:\"string\"}\n",
        "MODELZIP = MODEL + '.zip'\n",
        "modelname_path='/content/zips/'+MODELZIP\n",
        "if url != '':\n",
        "  !mkdir -p /content/Retrieval-based-Voice-Conversion-WebUI/logs/{MODEL}\n",
        "  !mkdir -p /content/zips/\n",
        "  if \"drive.google.com\" in url:\n",
        "    !gdown $url --fuzzy -O $modelname_path\n",
        "  elif \"mega.nz\" in url:\n",
        "    m = Mega()\n",
        "    m.download_url(url, '/content/zips')\n",
        "  else:\n",
        "    !wget $url -O /content/zips/{MODELZIP}\n",
        "  for filename in os.listdir(\"/content/zips\"):\n",
        "    if filename.endswith(\".zip\"):\n",
        "      zip_file = os.path.join(\"/content/zips\", filename)\n",
        "      shutil.unpack_archive(zip_file, \"/content/unzips\", 'zip')\n",
        "  #Move model into logs folder\n",
        "  for root, dirs, files in os.walk('/content/unzips'):\n",
        "    for file in files:\n",
        "      if \"G_\" in file:\n",
        "        MODELEPOCH = file.split(\"G_\")[1].split(\".\")[0]\n",
        "    if MODELEPOCH == '':\n",
        "      MODELEPOCH = '404'\n",
        "    for file in files:\n",
        "      file_path = os.path.join(root, file)\n",
        "      if file.endswith(\".npy\") or file.endswith(\".index\"):\n",
        "        !mv {file_path} /content/Retrieval-based-Voice-Conversion-WebUI/logs/{MODEL}/\n",
        "      elif \"G_\" not in file and \"D_\" not in file and file.endswith(\".pth\"):\n",
        "        !mv {file_path} /content/Retrieval-based-Voice-Conversion-WebUI/weights/{MODEL}.pth\n",
        "\n",
        "  !rm -r /content/unzips/\n",
        "  !rm -r /content/zips/\n",
        "  clear_output()\n",
        "  display(success)\n",
        "else:\n",
        "  print(\"URL cannot be left empty. If you don't want to download a model now, just skip this step.\")"
      ],
      "metadata": {
        "cellView": "form",
        "id": "1rqIfYvGrBRW"
      },
      "execution_count": null,
      "outputs": []
    },
    {
      "cell_type": "code",
      "source": [
        "#@title #Step 3. Jalankan GUI RVC\n",
        "#@markdown #Jalankan GUI dengan klik public URL\n",
        "%cd /content/Retrieval-based-Voice-Conversion-WebUI\n",
        "!python3 easy-infer.py --colab --pycmd python3\n"
      ],
      "metadata": {
        "cellView": "form",
        "id": "_44n37r4rdXW"
      },
      "execution_count": null,
      "outputs": []
    }
  ]
}